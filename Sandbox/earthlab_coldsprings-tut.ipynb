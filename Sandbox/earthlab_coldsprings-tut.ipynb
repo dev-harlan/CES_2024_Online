{
 "cells": [
  {
   "cell_type": "markdown",
   "id": "a18d37e0-9b28-49f4-bdd0-feb036362395",
   "metadata": {},
   "source": [
    "LandSat Cold Springs Fire Tutorial"
   ]
  },
  {
   "cell_type": "code",
   "execution_count": 1,
   "id": "8f15d464-52ea-4559-addc-3ec00189d895",
   "metadata": {},
   "outputs": [],
   "source": [
    "#!python -m venv myCustomEnv"
   ]
  },
  {
   "cell_type": "code",
   "execution_count": 2,
   "id": "4727b675-3f4e-45ee-976e-bebd1ba153a0",
   "metadata": {
    "scrolled": true
   },
   "outputs": [
    {
     "name": "stdout",
     "output_type": "stream",
     "text": [
      "Defaulting to user installation because normal site-packages is not writeable\n",
      "Requirement already satisfied: earthpy in /home/dh3142/.local/lib/python3.10/site-packages (0.9.4)\n",
      "Requirement already satisfied: matplotlib>=2.0.0 in /usr/lib/python3/dist-packages (from earthpy) (3.5.1)\n",
      "Requirement already satisfied: numpy>=1.14.0 in /home/dh3142/.local/lib/python3.10/site-packages (from earthpy) (2.1.3)\n",
      "Requirement already satisfied: scikit-image in /home/dh3142/.local/lib/python3.10/site-packages (from earthpy) (0.24.0)\n",
      "Requirement already satisfied: geopandas in /usr/lib/python3/dist-packages (from earthpy) (0.10.2)\n",
      "Requirement already satisfied: rasterio in /home/dh3142/.local/lib/python3.10/site-packages (from earthpy) (1.4.2)\n",
      "Requirement already satisfied: requests in /usr/lib/python3/dist-packages (from earthpy) (2.25.1)\n",
      "Requirement already satisfied: pyparsing in /usr/lib/python3/dist-packages (from rasterio->earthpy) (2.4.7)\n",
      "Requirement already satisfied: cligj>=0.5 in /usr/lib/python3/dist-packages (from rasterio->earthpy) (0.7.2)\n",
      "Requirement already satisfied: affine in /home/dh3142/.local/lib/python3.10/site-packages (from rasterio->earthpy) (2.4.0)\n",
      "Requirement already satisfied: click>=4.0 in /usr/lib/python3/dist-packages (from rasterio->earthpy) (8.0.3)\n",
      "Requirement already satisfied: attrs in /usr/lib/python3/dist-packages (from rasterio->earthpy) (21.2.0)\n",
      "Requirement already satisfied: click-plugins in /usr/lib/python3/dist-packages (from rasterio->earthpy) (1.1.1)\n",
      "Requirement already satisfied: certifi in /usr/lib/python3/dist-packages (from rasterio->earthpy) (2020.6.20)\n",
      "Requirement already satisfied: pillow>=9.1 in /home/dh3142/.local/lib/python3.10/site-packages (from scikit-image->earthpy) (11.0.0)\n",
      "Requirement already satisfied: scipy>=1.9 in /home/dh3142/.local/lib/python3.10/site-packages (from scikit-image->earthpy) (1.14.1)\n",
      "Requirement already satisfied: packaging>=21 in /home/dh3142/.local/lib/python3.10/site-packages (from scikit-image->earthpy) (24.2)\n",
      "Requirement already satisfied: lazy-loader>=0.4 in /home/dh3142/.local/lib/python3.10/site-packages (from scikit-image->earthpy) (0.4)\n",
      "Requirement already satisfied: networkx>=2.8 in /home/dh3142/.local/lib/python3.10/site-packages (from scikit-image->earthpy) (3.4.2)\n",
      "Requirement already satisfied: imageio>=2.33 in /home/dh3142/.local/lib/python3.10/site-packages (from scikit-image->earthpy) (2.36.0)\n",
      "Requirement already satisfied: tifffile>=2022.8.12 in /home/dh3142/.local/lib/python3.10/site-packages (from scikit-image->earthpy) (2024.9.20)\n"
     ]
    }
   ],
   "source": [
    "#!pip install earthpy"
   ]
  },
  {
   "cell_type": "code",
   "execution_count": 4,
   "id": "af856cb3-6cc9-4d72-ac62-48ae90a4a331",
   "metadata": {},
   "outputs": [],
   "source": [
    "import os\n",
    "from glob import glob\n",
    "\n",
    "\n",
    "#import matplotlib.pyplot as plt\n",
    "#import numpy as np\n",
    "#import geopandas as gpd\n",
    "#import xarray as xr\n",
    "#import rioxarray as rxr\n",
    "#import earthpy as et\n",
    "#import earthpy.spatial as es\n",
    "#import earthpy.plot as ep\n",
    "\n",
    "#UH OH!"
   ]
  },
  {
   "cell_type": "code",
   "execution_count": null,
   "id": "cf413617-d8a0-4253-acf9-677757ea69ee",
   "metadata": {},
   "outputs": [],
   "source": [
    "# Get list of all pre-cropped data and sort the data\n",
    "\n",
    "# Create the path to your data\n",
    "landsat_post_fire_path = os.path.join(\"coldspringsfire-tut-data\",\n",
    "                                      \"landsat_collect\",\n",
    "                                      \"LC080340322016072301T1-SC20180214145802\",\n",
    "                                      \"crop\")\n",
    "\n",
    "# Generate a list of tif files\n",
    "post_fire_paths = glob(os.path.join(landsat_post_fire_path,\n",
    "                                        \"*band*.tif\"))\n",
    "\n",
    "# Sort the data to ensure bands are in the correct order\n",
    "post_fire_paths.sort()\n",
    "post_fire_paths"
   ]
  },
  {
   "cell_type": "code",
   "execution_count": null,
   "id": "7110df8b-d5fc-4c96-8103-98419aedcb31",
   "metadata": {},
   "outputs": [],
   "source": [
    "!pip freeze"
   ]
  },
  {
   "cell_type": "code",
   "execution_count": null,
   "id": "d665d2ff-48aa-4a54-ae7e-4692d05ef2ad",
   "metadata": {},
   "outputs": [],
   "source": []
  }
 ],
 "metadata": {
  "kernelspec": {
   "display_name": "pangeoai23",
   "language": "python",
   "name": "pangeoai23"
  },
  "language_info": {
   "codemirror_mode": {
    "name": "ipython",
    "version": 3
   },
   "file_extension": ".py",
   "mimetype": "text/x-python",
   "name": "python",
   "nbconvert_exporter": "python",
   "pygments_lexer": "ipython3",
   "version": "3.10.13"
  }
 },
 "nbformat": 4,
 "nbformat_minor": 5
}
