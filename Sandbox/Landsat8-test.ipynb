{
 "cells": [
  {
   "cell_type": "code",
   "execution_count": 18,
   "id": "b81460e4-e07f-48e9-93f6-177f9c83f083",
   "metadata": {},
   "outputs": [],
   "source": [
    "import rasterio\n",
    "from rasterio.merge import merge\n",
    "from rasterio.mask import mask\n",
    "import numpy as np\n",
    "import geopandas as gpd\n",
    "from shapely.geometry import box\n",
    "from pyproj import Proj, transform\n"
   ]
  },
  {
   "cell_type": "code",
   "execution_count": 11,
   "id": "2cf9689b-7727-4af5-beb5-500834e14c89",
   "metadata": {},
   "outputs": [],
   "source": [
    "\n",
    "data_path = \"./Landsat8_Helheim/2021-06-14/\"\n",
    "\n",
    "# File paths to your R, G, and B band images\n",
    "red_band_path = f\"{data_path}LC08_L2SP_232013_20210614_20210622_02_T1_SR_B2.TIF\"\n",
    "green_band_path = f\"{data_path}LC08_L2SP_232013_20210614_20210622_02_T1_SR_B3.TIF\"\n",
    "blue_band_path = f\"{data_path}LC08_L2SP_232013_20210614_20210622_02_T1_SR_B4.TIF\""
   ]
  },
  {
   "cell_type": "code",
   "execution_count": 19,
   "id": "a64c4a82-6962-4ae6-98b6-481951882ddb",
   "metadata": {},
   "outputs": [
    {
     "name": "stdout",
     "output_type": "stream",
     "text": [
      "EPSG:32624\n"
     ]
    }
   ],
   "source": [
    "# Open the individual band files\n",
    "with rasterio.open(red_band_path) as red:\n",
    "    red_data = red.read(1)\n",
    "    profile = red.profile  # Save profile to use later\n",
    "    print(red.crs) # Show the CRS\n",
    "\n",
    "with rasterio.open(green_band_path) as green:\n",
    "    green_data = green.read(1)\n",
    "\n",
    "with rasterio.open(blue_band_path) as blue:\n",
    "    blue_data = blue.read(1)\n",
    "\n",
    "# Stack the bands into an array\n",
    "stacked_data = np.stack([red_data, green_data, blue_data])\n",
    "\n",
    "# Update profile to reflect the new number of bands\n",
    "profile.update(dtype=rasterio.uint8, count=3)"
   ]
  },
  {
   "cell_type": "code",
   "execution_count": 20,
   "id": "85638f76-078d-48a8-826e-2239c7e7789f",
   "metadata": {},
   "outputs": [],
   "source": [
    "# Specify coordinates to crop (xmin, ymin, xmax, ymax)\n",
    "# Helheim ~= 66.35°N and longitude -38.2°W\n",
    "#crop_coords = (-38.3986,66.2599,-38.0014,66.4401) # 20Km box derived from GPT\n",
    "crop_coords = (527017.08,7349009.52,544539.09,7369322.04) #converted to CRS EPSG:32624 (UTM Zone 24N)\n",
    "geom = box(*crop_coords)\n",
    "\n",
    "# Convert geometry to GeoDataFrame for rasterio masking\n",
    "gdf = gpd.GeoDataFrame({\"geometry\": [geom]}, crs=red.crs)"
   ]
  },
  {
   "cell_type": "code",
   "execution_count": 22,
   "id": "879b403d-81dd-4239-8f6a-6e8299f55135",
   "metadata": {},
   "outputs": [],
   "source": [
    "FileOut = \"Helheim-2021-06-14_rgb.tif\"\n",
    "\n",
    "# Crop the combined image\n",
    "with rasterio.open(FileOut, 'w', **profile) as dst:\n",
    "    dst.write(stacked_data)\n",
    "\n",
    "# Read and crop the combined image\n",
    "with rasterio.open(FileOut) as src:\n",
    "    out_image, out_transform = mask(src, gdf.geometry, crop=True)\n",
    "    out_meta = src.meta.copy()\n",
    "\n",
    "# Update the metadata after cropping\n",
    "out_meta.update({\n",
    "    \"driver\": \"GTiff\",\n",
    "    \"height\": out_image.shape[1],\n",
    "    \"width\": out_image.shape[2],\n",
    "    \"transform\": out_transform\n",
    "})\n",
    "\n",
    "# Save the cropped image\n",
    "with rasterio.open(FileOut, 'w', **out_meta) as dest:\n",
    "    dest.write(out_image)"
   ]
  },
  {
   "cell_type": "code",
   "execution_count": null,
   "id": "b22a6cad-4118-4550-a903-2c26e7ea2003",
   "metadata": {},
   "outputs": [],
   "source": []
  }
 ],
 "metadata": {
  "kernelspec": {
   "display_name": "pangeo23",
   "language": "python",
   "name": "pangeo23"
  },
  "language_info": {
   "codemirror_mode": {
    "name": "ipython",
    "version": 3
   },
   "file_extension": ".py",
   "mimetype": "text/x-python",
   "name": "python",
   "nbconvert_exporter": "python",
   "pygments_lexer": "ipython3",
   "version": "3.11.6"
  }
 },
 "nbformat": 4,
 "nbformat_minor": 5
}
