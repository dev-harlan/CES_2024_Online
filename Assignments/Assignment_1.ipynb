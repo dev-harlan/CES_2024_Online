{
 "cells": [
  {
   "cell_type": "markdown",
   "id": "b1bbce3c-7cc8-4c1c-a581-e7c9584991c8",
   "metadata": {},
   "source": [
    "## Assignment 1"
   ]
  },
  {
   "cell_type": "code",
   "execution_count": 14,
   "id": "f149922a-5316-4063-b514-d0c938aebc70",
   "metadata": {},
   "outputs": [
    {
     "name": "stdout",
     "output_type": "stream",
     "text": [
      "Length of list:  8\n",
      "First four planets:  ['Mercury', 'Venus', 'Earth', 'Mars', 'Jupiter']\n",
      "Planets ending in 's': \n",
      "Venus\n",
      "Mars\n",
      "Uranus\n"
     ]
    }
   ],
   "source": [
    "# Part 1: Lists\n",
    "\n",
    "#1\n",
    "planets = [\"Mercury\", \"Venus\", \"Earth\", \"Mars\", \"Jupiter\", \"Saturn\", \"Neptune\", \"Uranus\"]\n",
    "\n",
    "#2\n",
    "print(\"Total planets in list: \", len(planets))\n",
    "\n",
    "#3\n",
    "print(\"First four planets: \", planets[0:5])\n",
    "\n",
    "#4\n",
    "print(\"Planets ending in 's': \")\n",
    "for name in planets:\n",
    "    char = name[len(name)-1]\n",
    "    if (char == \"s\"):\n",
    "        print(name)"
   ]
  },
  {
   "cell_type": "code",
   "execution_count": 19,
   "id": "2f621231-69c5-47aa-a1d9-63f3c48bbf70",
   "metadata": {},
   "outputs": [
    {
     "name": "stdout",
     "output_type": "stream",
     "text": [
      "#3\n",
      "5772°K is:  5498.85 °C\n",
      "0°C is:  273.15 °K\n",
      "15°C is:  59.0 °F\n",
      "288.15°K is:  59.0 °F\n",
      "\n",
      "#4\n",
      "15°F is:  -9.44 °C\n",
      "15°F is:  263.71 °K\n",
      "\n",
      "#5\n",
      "5ft, 10in =  1.7779998140720756 m\n",
      "32ft, 10in =  10.007599550724883 m\n",
      "52800ft, 0in =  16093.439485009936 m\n",
      "\n",
      "#7\n",
      "1.778m =  5 ft,  10.0 in\n",
      "10.007599550724883m =  32 ft,  10.0 in\n",
      "16093.439485009936m =  52800 ft,  0.0 in\n"
     ]
    }
   ],
   "source": [
    "##### Part 2: Functions\n",
    "\n",
    "#1\n",
    "def convertCelsiusToKelvin(temp):\n",
    "    return (temp + 273.15)\n",
    "\n",
    "def convertKelvinToCelsius(temp):\n",
    "    return (temp - 273.15)\n",
    "\n",
    "#2\n",
    "def convertToFarenheit(temp, unit):\n",
    "    if unit == \"C\":\n",
    "        return (temp*(9/5)+32)\n",
    "    elif unit == \"K\":\n",
    "        temp = convertKelvinToCelsius(temp)\n",
    "        return (temp*(9/5)+32)\n",
    "    else:\n",
    "        print(\"Please supply a valid letter for the given temp: K= Kelvin, C = Celsius\")\n",
    "\n",
    "#3\n",
    "print(\"#3\")\n",
    "print(\"5772°K is: \", convertKelvinToCelsius(5772), \"°C\")\n",
    "print(\"0°C is: \", convertCelsiusToKelvin(0), \"°K\")\n",
    "print(\"15°C is: \", convertToFarenheit(15, \"C\"), \"°F\")\n",
    "print(\"288.15°K is: \", convertToFarenheit(288.15, \"K\"), \"°F\")\n",
    "\n",
    "#4\n",
    "def convertFromFarenheit(temp, unit):\n",
    "    if unit == \"C\":\n",
    "        return round(5/9*(temp-32), 2)\n",
    "    elif unit == \"K\":\n",
    "        return round(5/9*(temp-32)+273.15, 2)\n",
    "    else:\n",
    "        print(\"Please supply a valid letter for the given temp: K= Kelvin, C = Celsius\")\n",
    "\n",
    "print(\"\\n#4\")\n",
    "print(\"15°F is: \", convertFromFarenheit(15, \"C\"), \"°C\")\n",
    "print(\"15°F is: \", convertFromFarenheit(15, \"K\"), \"°K\")\n",
    "\n",
    "#5\n",
    "def convertImperialToMetric(feet, inches):\n",
    "    meters = feet/3.28084 + inches/39.3701\n",
    "    return meters\n",
    "\n",
    "print(\"\\n#5\")\n",
    "print(\"5ft, 10in = \", convertImperialToMetric(5,10), \"m\")\n",
    "print(\"32ft, 10in = \", convertImperialToMetric(32,10), \"m\")\n",
    "print(\"52800ft, 0in = \", convertImperialToMetric(52800,0), \"m\")\n",
    "\n",
    "#6\n",
    "def convertMetricToImperial(meters):\n",
    "    feetTotal = meters*3.28084\n",
    "    feet = int(feetTotal)\n",
    "    inches = (feetTotal - feet) * 12\n",
    "    return feet, round(inches, 2)\n",
    "\n",
    "#7\n",
    "print(\"\\n#7\")\n",
    "feet, inches = convertMetricToImperial(1.778);\n",
    "print(\"1.778m = \", feet, \"ft, \", inches, \"in\")\n",
    "\n",
    "feet, inches = convertMetricToImperial(10.007599550724883);\n",
    "print(\"10.007599550724883m = \", feet, \"ft, \", inches, \"in\")\n",
    "\n",
    "feet, inches = convertMetricToImperial(16093.439485009936);\n",
    "print(\"16093.439485009936m = \", feet, \"ft, \", inches, \"in\")\n",
    "\n"
   ]
  },
  {
   "cell_type": "code",
   "execution_count": null,
   "id": "ad99900e-b688-492d-99d2-e25d2dfc1666",
   "metadata": {},
   "outputs": [],
   "source": []
  }
 ],
 "metadata": {
  "kernelspec": {
   "display_name": "pangeo23",
   "language": "python",
   "name": "pangeo23"
  },
  "language_info": {
   "codemirror_mode": {
    "name": "ipython",
    "version": 3
   },
   "file_extension": ".py",
   "mimetype": "text/x-python",
   "name": "python",
   "nbconvert_exporter": "python",
   "pygments_lexer": "ipython3",
   "version": "3.11.6"
  }
 },
 "nbformat": 4,
 "nbformat_minor": 5
}
