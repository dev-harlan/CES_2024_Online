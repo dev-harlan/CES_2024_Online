{
 "cells": [
  {
   "cell_type": "code",
   "execution_count": 1,
   "id": "afd4ddd0-5014-4a1f-ad64-832c3ac77743",
   "metadata": {},
   "outputs": [
    {
     "name": "stdout",
     "output_type": "stream",
     "text": [
      "Average Earth Temp: 254.8116 K, -18.3384 C\n",
      "TOO COLD!\n"
     ]
    }
   ],
   "source": [
    "# Warming Models\n",
    "'''\n",
    "solar constant SWR = 1366 W/m^2 (at equator)\n",
    "surface albedo ~= 30% (global average)\n",
    "infrared radiationm heat loss = sigma * T^4 (Boltzmann law)\n",
    "\n",
    "'''\n",
    "\n",
    "import numpy as np\n",
    "\n",
    "#Radiation balance assuming no Greenhouse effect\n",
    "\n",
    "solar_constant = 1366\n",
    "albedo = 0.3\n",
    "boltzmann_constant = 5.6703744193e-8\n",
    "\n",
    "Te = (solar_constant*(1-albedo) / (4*boltzmann_constant))**(1/4)\n",
    "print('Average Earth Temp: %0.4f K, %0.4f C' % (Te, Te-273.15))\n",
    "print('TOO COLD!')"
   ]
  },
  {
   "cell_type": "code",
   "execution_count": 2,
   "id": "0afaee8b-3447-46a8-b4a9-f2f3e49d0eaa",
   "metadata": {},
   "outputs": [
    {
     "name": "stdout",
     "output_type": "stream",
     "text": [
      "Average Earth Temp: 288.3280 K, 15.1780 C\n"
     ]
    }
   ],
   "source": [
    "# use greenhouse effect:\n",
    "'''\n",
    "E = emmissivity ~= 78% (0% = no greenhouse effect)\n",
    "Ta = tempof atmosphere\n",
    "E * sigma * Ta^4 + (1-E)*sigma * Ta^4 = 0\n",
    "'''\n",
    "\n",
    "epsilon = 0.78\n",
    "\n",
    "Ts = ((solar_constant*(1-albedo)/4) / (boltzmann_constant * (1-epsilon/2))) ** (1/4)\n",
    "print('Average Earth Temp: %0.4f K, %0.4f C' % (Ts, Ts-273.15))"
   ]
  },
  {
   "cell_type": "code",
   "execution_count": 3,
   "id": "3cf336a7-48ef-49c1-87ef-63dd72a040da",
   "metadata": {},
   "outputs": [
    {
     "data": {
      "text/plain": [
       "0.01673290106672244"
      ]
     },
     "execution_count": 3,
     "metadata": {},
     "output_type": "execute_result"
    }
   ],
   "source": [
    "# model added CO2\n",
    "# doubling of C02 = Radiative forcing of 4\n",
    "Ta = (epsilon * boltzmann_constant * Ts**4 / (2 * boltzmann_constant)) ** (1/4)\n",
    "d_epsilon = -4 / (boltzmann_constant * Ta**4 - boltzmann_constant * Ts**4)\n",
    "d_epsilon"
   ]
  },
  {
   "cell_type": "code",
   "execution_count": 4,
   "id": "efc2a348-6c97-4e2c-9041-9ef986b778b1",
   "metadata": {},
   "outputs": [
    {
     "data": {
      "text/plain": [
       "0.7967329010667225"
      ]
     },
     "execution_count": 4,
     "metadata": {},
     "output_type": "execute_result"
    }
   ],
   "source": [
    "new_epsilon = epsilon + d_epsilon\n",
    "new_epsilon"
   ]
  },
  {
   "cell_type": "code",
   "execution_count": 5,
   "id": "6c8d2461-0842-4e4f-9ea4-a59fbfc12ddd",
   "metadata": {},
   "outputs": [
    {
     "name": "stdout",
     "output_type": "stream",
     "text": [
      "0.9972030490922066\n"
     ]
    }
   ],
   "source": [
    "Ts_new = ((solar_constant*(1-albedo)/4) / (boltzmann_constant * (1-new_epsilon/2))) ** (1/4) \n",
    "# blah blah ne formula results in +1 degree warming.. but should be 3! does not account for feedback loops\n",
    "print(Ts_new - Ts)"
   ]
  },
  {
   "cell_type": "code",
   "execution_count": 6,
   "id": "0334ceb1-5661-4b91-88e1-26ef433ba141",
   "metadata": {},
   "outputs": [],
   "source": [
    "from matplotlib import pyplot as plt\n",
    "from scipy.integrate import solve_ivp"
   ]
  },
  {
   "cell_type": "code",
   "execution_count": 8,
   "id": "d3922881-f760-4b48-a379-64273bf59d4f",
   "metadata": {},
   "outputs": [],
   "source": [
    "# Time dependance\n",
    "M = 1\n",
    "u = np.zeros((M,))\n",
    "heat_C = 4.0e8 # Heat Capacity = J/m2/K\n",
    "\n",
    "def myfunc(t, u): # heat balance function w/out GH effect\n",
    "    f = np.zeros((M,))\n",
    "    f[0] = (solar_constant*(1-albedo)/4 - boltzmann_constant*(u[0]**4)) / heat_C\n",
    "    return f\n",
    "\n",
    "u0 = np.zeros((M,))\n",
    "t0 = 0.0\n",
    "dt = 60*60*365*24 # one year in seconds (to keep SI units)\n",
    "tmax = 100*dt\n",
    "t = np.arange(t0, tmax, dt)\n",
    "N = np.shape(t)[0]\n"
   ]
  },
  {
   "cell_type": "code",
   "execution_count": 9,
   "id": "4fd1f926-8a64-4c45-86b2-16a768c160fc",
   "metadata": {},
   "outputs": [
    {
     "data": {
      "text/plain": [
       "[<matplotlib.lines.Line2D at 0x719201786620>]"
      ]
     },
     "execution_count": 9,
     "metadata": {},
     "output_type": "execute_result"
    },
    {
     "data": {
      "image/png": "[encoded data removed]",
      "text/plain": [
       "<Figure size 640x480 with 1 Axes>"
      ]
     },
     "metadata": {},
     "output_type": "display_data"
    }
   ],
   "source": [
    "sol = solve_ivp(myfunc, [t0,tmax], u0, method='RK45', t_eval = t)\n",
    "\n",
    "fig = plt.figure()\n",
    "plt.plot(sol.t/(60*60*365*24), sol.y[0], 'k-')\n",
    "#lt.xlabel('Time (Year)')\n",
    "#plt.ylabel('Temperat#ure (K)')\n",
    "\n"
   ]
  },
  {
   "cell_type": "code",
   "execution_count": 10,
   "id": "bbb24a04-d098-4121-a9f7-bb75c798ef5e",
   "metadata": {},
   "outputs": [],
   "source": [
    "# with GHG absorption\n",
    "\n",
    "M = 2\n",
    "\n",
    "def myfunc(t, u): # heat balance function w/ 2 layer model GHG effect\n",
    "    f = np.zeros((M,))\n",
    "    # u[0] = Ta (Temp Atmosphere)\n",
    "    # u[1] = Ts (Temp Surface)\n",
    "    \n",
    "    f[0] = (solar_constant*(1-albedo)/4 - epsilon*boltzmann_constant*(u[0]**4) \n",
    "            - (1 - epsilon) * boltzmann_constant*(u[1]**4)) / heat_C\n",
    "    f[1] = (solar_constant*(1-albedo)/4 + epsilon*boltzmann_constant*(u[0]**4)\n",
    "            - boltzmann_constant*(u[1]**4)) / heat_C\n",
    "    return f\n",
    "    \n",
    "\n"
   ]
  },
  {
   "cell_type": "code",
   "execution_count": 11,
   "id": "78d31216-0324-4f32-9874-284972b2e54f",
   "metadata": {},
   "outputs": [
    {
     "name": "stdout",
     "output_type": "stream",
     "text": [
      "[  0.          18.84660186  37.69259922  56.53411122  75.35819537\n",
      "  94.14036018 112.86542315 131.47673442 149.86990803 167.8928219\n",
      " 185.34561782 201.95637867 217.37803486 231.36229758 243.70369035\n",
      " 254.23407336 262.82275667 269.51180382 274.70266012 278.74155482\n",
      " 281.84046356 284.07710835 285.50539868 286.51077236 287.18878736\n",
      " 287.60981254 287.86134549 288.0438431  288.18696815 288.27813489\n",
      " 288.31952631 288.32448801 288.31752825 288.32891426 288.34965452\n",
      " 288.36586372 288.37064705 288.36181077 288.34186222 288.31800979\n",
      " 288.30216296 288.3072357  288.31965932 288.33236932 288.34261102\n",
      " 288.34852814 288.34916282 288.34445558 288.33524537 288.32326955\n",
      " 288.31116386 288.30246246 288.30159638 288.28131789 288.23040669\n",
      " 288.172579   288.12619708 288.10426935 288.11445028 288.15904046\n",
      " 288.23498658 288.33388144 288.4419639  288.54011897 288.60387772\n",
      " 288.60341734 288.52003396 288.41741758 288.32725565 288.26649124\n",
      " 288.24418158 288.261498   288.31172595 288.380265   288.44462885\n",
      " 288.47444529 288.45809158 288.46685254 288.48421738 288.49014742\n",
      " 288.47286533 288.42885515 288.36286227 288.28789342 288.22521671\n",
      " 288.20436158 288.24992972 288.32230763 288.39153176 288.43848213\n",
      " 288.45194784 288.42862714 288.37312736 288.29796497 288.22356556\n",
      " 288.17826382 288.19386143 288.22500078 288.24962268 288.26911208]\n"
     ]
    }
   ],
   "source": [
    "# Initial conditions\n",
    "\n",
    "u0 = np.zeros((M,)) # init Temp, 1D array\n",
    "\n",
    "dt = 365*24*60*60  # time step = one year (in seconds)\n",
    "t0 = 0\n",
    "tmax = 100 * dt\n",
    "t= np.arange(t0, tmax, dt)\n",
    "N = np.shape(t)\n",
    "\n",
    "sol = solve_ivp(myfunc, [t0, tmax], u0, method='RK45', t_eval=t)\n",
    "print(sol.y[1])\n"
   ]
  },
  {
   "cell_type": "code",
   "execution_count": 14,
   "id": "d0bf9150-991d-4930-a886-68dec783864e",
   "metadata": {},
   "outputs": [
    {
     "data": {
      "text/plain": [
       "<matplotlib.legend.Legend at 0x7191f75f2f50>"
      ]
     },
     "execution_count": 14,
     "metadata": {},
     "output_type": "execute_result"
    },
    {
     "data": {
      "image/png": "[encoded data removed]",
      "text/plain": [
       "<Figure size 640x480 with 1 Axes>"
      ]
     },
     "metadata": {},
     "output_type": "display_data"
    }
   ],
   "source": [
    "fig = plt.figure()\n",
    "plt.plot(sol.t / (365*24*60*69), sol.y[0], 'k-', label='T atmos')\n",
    "plt.plot(sol.t / (365*24*60*69), sol.y[1], 'r-', label='T surface')\n",
    "plt.xlabel('Time (year)')\n",
    "plt.ylabel('Temperature (K)')\n",
    "plt.legend()"
   ]
  },
  {
   "cell_type": "code",
   "execution_count": null,
   "id": "94f58090-7e7f-4381-b145-7a0362d907ab",
   "metadata": {},
   "outputs": [],
   "source": []
  }
 ],
 "metadata": {
  "kernelspec": {
   "display_name": "pangeoai23",
   "language": "python",
   "name": "pangeoai23"
  },
  "language_info": {
   "codemirror_mode": {
    "name": "ipython",
    "version": 3
   },
   "file_extension": ".py",
   "mimetype": "text/x-python",
   "name": "python",
   "nbconvert_exporter": "python",
   "pygments_lexer": "ipython3",
   "version": "3.10.13"
  }
 },
 "nbformat": 4,
 "nbformat_minor": 5
}
