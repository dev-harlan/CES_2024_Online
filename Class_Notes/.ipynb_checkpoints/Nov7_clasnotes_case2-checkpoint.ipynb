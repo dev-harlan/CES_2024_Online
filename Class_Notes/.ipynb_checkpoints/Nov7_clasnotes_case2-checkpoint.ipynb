{
 "cells": [
  {
   "cell_type": "code",
   "execution_count": 1,
   "id": "bfc071e2-2a35-4b6b-ab95-837ccb2de8c2",
   "metadata": {},
   "outputs": [
    {
     "name": "stderr",
     "output_type": "stream",
     "text": [
      "\n",
      "A module that was compiled using NumPy 1.x cannot be run in\n",
      "NumPy 2.1.3 as it may crash. To support both 1.x and 2.x\n",
      "versions of NumPy, modules must be compiled with NumPy 2.0.\n",
      "Some module may need to rebuild instead e.g. with 'pybind11>=2.12'.\n",
      "\n",
      "If you are a user of the module, the easiest solution will be to\n",
      "downgrade to 'numpy<2' or try to upgrade the affected module.\n",
      "We expect that some modules will need time to support NumPy 2.\n",
      "\n",
      "Traceback (most recent call last):  File \"/opt/sw/anaconda3/2023.09/envs/pangeoai23/lib/python3.10/runpy.py\", line 196, in _run_module_as_main\n",
      "    return _run_code(code, main_globals, None,\n",
      "  File \"/opt/sw/anaconda3/2023.09/envs/pangeoai23/lib/python3.10/runpy.py\", line 86, in _run_code\n",
      "    exec(code, run_globals)\n",
      "  File \"/opt/sw/anaconda3/2023.09/envs/pangeoai23/lib/python3.10/site-packages/ipykernel_launcher.py\", line 17, in <module>\n",
      "    app.launch_new_instance()\n",
      "  File \"/opt/sw/anaconda3/2023.09/envs/pangeoai23/lib/python3.10/site-packages/traitlets/config/application.py\", line 1075, in launch_instance\n",
      "    app.start()\n",
      "  File \"/opt/sw/anaconda3/2023.09/envs/pangeoai23/lib/python3.10/site-packages/ipykernel/kernelapp.py\", line 739, in start\n",
      "    self.io_loop.start()\n",
      "  File \"/opt/sw/anaconda3/2023.09/envs/pangeoai23/lib/python3.10/site-packages/tornado/platform/asyncio.py\", line 195, in start\n",
      "    self.asyncio_loop.run_forever()\n",
      "  File \"/opt/sw/anaconda3/2023.09/envs/pangeoai23/lib/python3.10/asyncio/base_events.py\", line 603, in run_forever\n",
      "    self._run_once()\n",
      "  File \"/opt/sw/anaconda3/2023.09/envs/pangeoai23/lib/python3.10/asyncio/base_events.py\", line 1909, in _run_once\n",
      "    handle._run()\n",
      "  File \"/opt/sw/anaconda3/2023.09/envs/pangeoai23/lib/python3.10/asyncio/events.py\", line 80, in _run\n",
      "    self._context.run(self._callback, *self._args)\n",
      "  File \"/opt/sw/anaconda3/2023.09/envs/pangeoai23/lib/python3.10/site-packages/ipykernel/kernelbase.py\", line 542, in dispatch_queue\n",
      "    await self.process_one()\n",
      "  File \"/opt/sw/anaconda3/2023.09/envs/pangeoai23/lib/python3.10/site-packages/ipykernel/kernelbase.py\", line 531, in process_one\n",
      "    await dispatch(*args)\n",
      "  File \"/opt/sw/anaconda3/2023.09/envs/pangeoai23/lib/python3.10/site-packages/ipykernel/kernelbase.py\", line 437, in dispatch_shell\n",
      "    await result\n",
      "  File \"/opt/sw/anaconda3/2023.09/envs/pangeoai23/lib/python3.10/site-packages/ipykernel/ipkernel.py\", line 359, in execute_request\n",
      "    await super().execute_request(stream, ident, parent)\n",
      "  File \"/opt/sw/anaconda3/2023.09/envs/pangeoai23/lib/python3.10/site-packages/ipykernel/kernelbase.py\", line 775, in execute_request\n",
      "    reply_content = await reply_content\n",
      "  File \"/opt/sw/anaconda3/2023.09/envs/pangeoai23/lib/python3.10/site-packages/ipykernel/ipkernel.py\", line 446, in do_execute\n",
      "    res = shell.run_cell(\n",
      "  File \"/opt/sw/anaconda3/2023.09/envs/pangeoai23/lib/python3.10/site-packages/ipykernel/zmqshell.py\", line 549, in run_cell\n",
      "    return super().run_cell(*args, **kwargs)\n",
      "  File \"/opt/sw/anaconda3/2023.09/envs/pangeoai23/lib/python3.10/site-packages/IPython/core/interactiveshell.py\", line 3051, in run_cell\n",
      "    result = self._run_cell(\n",
      "  File \"/opt/sw/anaconda3/2023.09/envs/pangeoai23/lib/python3.10/site-packages/IPython/core/interactiveshell.py\", line 3106, in _run_cell\n",
      "    result = runner(coro)\n",
      "  File \"/opt/sw/anaconda3/2023.09/envs/pangeoai23/lib/python3.10/site-packages/IPython/core/async_helpers.py\", line 129, in _pseudo_sync_runner\n",
      "    coro.send(None)\n",
      "  File \"/opt/sw/anaconda3/2023.09/envs/pangeoai23/lib/python3.10/site-packages/IPython/core/interactiveshell.py\", line 3311, in run_cell_async\n",
      "    has_raised = await self.run_ast_nodes(code_ast.body, cell_name,\n",
      "  File \"/opt/sw/anaconda3/2023.09/envs/pangeoai23/lib/python3.10/site-packages/IPython/core/interactiveshell.py\", line 3493, in run_ast_nodes\n",
      "    if await self.run_code(code, result, async_=asy):\n",
      "  File \"/opt/sw/anaconda3/2023.09/envs/pangeoai23/lib/python3.10/site-packages/IPython/core/interactiveshell.py\", line 3553, in run_code\n",
      "    exec(code_obj, self.user_global_ns, self.user_ns)\n",
      "  File \"/tmp/ipykernel_18542/550901145.py\", line 2, in <module>\n",
      "    import matplotlib.pyplot as plt\n",
      "  File \"/opt/sw/anaconda3/2023.09/envs/pangeoai23/lib/python3.10/site-packages/matplotlib/__init__.py\", line 161, in <module>\n",
      "    from . import _api, _version, cbook, _docstring, rcsetup\n",
      "  File \"/opt/sw/anaconda3/2023.09/envs/pangeoai23/lib/python3.10/site-packages/matplotlib/rcsetup.py\", line 27, in <module>\n",
      "    from matplotlib.colors import Colormap, is_color_like\n",
      "  File \"/opt/sw/anaconda3/2023.09/envs/pangeoai23/lib/python3.10/site-packages/matplotlib/colors.py\", line 57, in <module>\n",
      "    from matplotlib import _api, _cm, cbook, scale\n",
      "  File \"/opt/sw/anaconda3/2023.09/envs/pangeoai23/lib/python3.10/site-packages/matplotlib/scale.py\", line 22, in <module>\n",
      "    from matplotlib.ticker import (\n",
      "  File \"/opt/sw/anaconda3/2023.09/envs/pangeoai23/lib/python3.10/site-packages/matplotlib/ticker.py\", line 143, in <module>\n",
      "    from matplotlib import transforms as mtransforms\n",
      "  File \"/opt/sw/anaconda3/2023.09/envs/pangeoai23/lib/python3.10/site-packages/matplotlib/transforms.py\", line 49, in <module>\n",
      "    from matplotlib._path import (\n"
     ]
    },
    {
     "ename": "AttributeError",
     "evalue": "_ARRAY_API not found",
     "output_type": "error",
     "traceback": [
      "\u001b[0;31m---------------------------------------------------------------------------\u001b[0m",
      "\u001b[0;31mAttributeError\u001b[0m                            Traceback (most recent call last)",
      "\u001b[0;31mAttributeError\u001b[0m: _ARRAY_API not found"
     ]
    },
    {
     "ename": "ImportError",
     "evalue": "numpy.core.multiarray failed to import",
     "output_type": "error",
     "traceback": [
      "\u001b[0;31m---------------------------------------------------------------------------\u001b[0m",
      "\u001b[0;31mImportError\u001b[0m                               Traceback (most recent call last)",
      "Cell \u001b[0;32mIn[1], line 2\u001b[0m\n\u001b[1;32m      1\u001b[0m \u001b[38;5;28;01mimport\u001b[39;00m \u001b[38;5;21;01mnumpy\u001b[39;00m \u001b[38;5;28;01mas\u001b[39;00m \u001b[38;5;21;01mnp\u001b[39;00m\n\u001b[0;32m----> 2\u001b[0m \u001b[38;5;28;01mimport\u001b[39;00m \u001b[38;5;21;01mmatplotlib\u001b[39;00m\u001b[38;5;21;01m.\u001b[39;00m\u001b[38;5;21;01mpyplot\u001b[39;00m \u001b[38;5;28;01mas\u001b[39;00m \u001b[38;5;21;01mplt\u001b[39;00m\n",
      "File \u001b[0;32m/opt/sw/anaconda3/2023.09/envs/pangeoai23/lib/python3.10/site-packages/matplotlib/__init__.py:161\u001b[0m\n\u001b[1;32m    157\u001b[0m \u001b[38;5;28;01mfrom\u001b[39;00m \u001b[38;5;21;01mpackaging\u001b[39;00m\u001b[38;5;21;01m.\u001b[39;00m\u001b[38;5;21;01mversion\u001b[39;00m \u001b[38;5;28;01mimport\u001b[39;00m parse \u001b[38;5;28;01mas\u001b[39;00m parse_version\n\u001b[1;32m    159\u001b[0m \u001b[38;5;66;03m# cbook must import matplotlib only within function\u001b[39;00m\n\u001b[1;32m    160\u001b[0m \u001b[38;5;66;03m# definitions, so it is safe to import from it here.\u001b[39;00m\n\u001b[0;32m--> 161\u001b[0m \u001b[38;5;28;01mfrom\u001b[39;00m \u001b[38;5;21;01m.\u001b[39;00m \u001b[38;5;28;01mimport\u001b[39;00m _api, _version, cbook, _docstring, rcsetup\n\u001b[1;32m    162\u001b[0m \u001b[38;5;28;01mfrom\u001b[39;00m \u001b[38;5;21;01mmatplotlib\u001b[39;00m\u001b[38;5;21;01m.\u001b[39;00m\u001b[38;5;21;01mcbook\u001b[39;00m \u001b[38;5;28;01mimport\u001b[39;00m sanitize_sequence\n\u001b[1;32m    163\u001b[0m \u001b[38;5;28;01mfrom\u001b[39;00m \u001b[38;5;21;01mmatplotlib\u001b[39;00m\u001b[38;5;21;01m.\u001b[39;00m\u001b[38;5;21;01m_api\u001b[39;00m \u001b[38;5;28;01mimport\u001b[39;00m MatplotlibDeprecationWarning\n",
      "File \u001b[0;32m/opt/sw/anaconda3/2023.09/envs/pangeoai23/lib/python3.10/site-packages/matplotlib/rcsetup.py:27\u001b[0m\n\u001b[1;32m     25\u001b[0m \u001b[38;5;28;01mfrom\u001b[39;00m \u001b[38;5;21;01mmatplotlib\u001b[39;00m \u001b[38;5;28;01mimport\u001b[39;00m _api, cbook\n\u001b[1;32m     26\u001b[0m \u001b[38;5;28;01mfrom\u001b[39;00m \u001b[38;5;21;01mmatplotlib\u001b[39;00m\u001b[38;5;21;01m.\u001b[39;00m\u001b[38;5;21;01mcbook\u001b[39;00m \u001b[38;5;28;01mimport\u001b[39;00m ls_mapper\n\u001b[0;32m---> 27\u001b[0m \u001b[38;5;28;01mfrom\u001b[39;00m \u001b[38;5;21;01mmatplotlib\u001b[39;00m\u001b[38;5;21;01m.\u001b[39;00m\u001b[38;5;21;01mcolors\u001b[39;00m \u001b[38;5;28;01mimport\u001b[39;00m Colormap, is_color_like\n\u001b[1;32m     28\u001b[0m \u001b[38;5;28;01mfrom\u001b[39;00m \u001b[38;5;21;01mmatplotlib\u001b[39;00m\u001b[38;5;21;01m.\u001b[39;00m\u001b[38;5;21;01m_fontconfig_pattern\u001b[39;00m \u001b[38;5;28;01mimport\u001b[39;00m parse_fontconfig_pattern\n\u001b[1;32m     29\u001b[0m \u001b[38;5;28;01mfrom\u001b[39;00m \u001b[38;5;21;01mmatplotlib\u001b[39;00m\u001b[38;5;21;01m.\u001b[39;00m\u001b[38;5;21;01m_enums\u001b[39;00m \u001b[38;5;28;01mimport\u001b[39;00m JoinStyle, CapStyle\n",
      "File \u001b[0;32m/opt/sw/anaconda3/2023.09/envs/pangeoai23/lib/python3.10/site-packages/matplotlib/colors.py:57\u001b[0m\n\u001b[1;32m     55\u001b[0m \u001b[38;5;28;01mimport\u001b[39;00m \u001b[38;5;21;01mmatplotlib\u001b[39;00m \u001b[38;5;28;01mas\u001b[39;00m \u001b[38;5;21;01mmpl\u001b[39;00m\n\u001b[1;32m     56\u001b[0m \u001b[38;5;28;01mimport\u001b[39;00m \u001b[38;5;21;01mnumpy\u001b[39;00m \u001b[38;5;28;01mas\u001b[39;00m \u001b[38;5;21;01mnp\u001b[39;00m\n\u001b[0;32m---> 57\u001b[0m \u001b[38;5;28;01mfrom\u001b[39;00m \u001b[38;5;21;01mmatplotlib\u001b[39;00m \u001b[38;5;28;01mimport\u001b[39;00m _api, _cm, cbook, scale\n\u001b[1;32m     58\u001b[0m \u001b[38;5;28;01mfrom\u001b[39;00m \u001b[38;5;21;01m.\u001b[39;00m\u001b[38;5;21;01m_color_data\u001b[39;00m \u001b[38;5;28;01mimport\u001b[39;00m BASE_COLORS, TABLEAU_COLORS, CSS4_COLORS, XKCD_COLORS\n\u001b[1;32m     61\u001b[0m \u001b[38;5;28;01mclass\u001b[39;00m \u001b[38;5;21;01m_ColorMapping\u001b[39;00m(\u001b[38;5;28mdict\u001b[39m):\n",
      "File \u001b[0;32m/opt/sw/anaconda3/2023.09/envs/pangeoai23/lib/python3.10/site-packages/matplotlib/scale.py:22\u001b[0m\n\u001b[1;32m     20\u001b[0m \u001b[38;5;28;01mimport\u001b[39;00m \u001b[38;5;21;01mmatplotlib\u001b[39;00m \u001b[38;5;28;01mas\u001b[39;00m \u001b[38;5;21;01mmpl\u001b[39;00m\n\u001b[1;32m     21\u001b[0m \u001b[38;5;28;01mfrom\u001b[39;00m \u001b[38;5;21;01mmatplotlib\u001b[39;00m \u001b[38;5;28;01mimport\u001b[39;00m _api, _docstring\n\u001b[0;32m---> 22\u001b[0m \u001b[38;5;28;01mfrom\u001b[39;00m \u001b[38;5;21;01mmatplotlib\u001b[39;00m\u001b[38;5;21;01m.\u001b[39;00m\u001b[38;5;21;01mticker\u001b[39;00m \u001b[38;5;28;01mimport\u001b[39;00m (\n\u001b[1;32m     23\u001b[0m     NullFormatter, ScalarFormatter, LogFormatterSciNotation, LogitFormatter,\n\u001b[1;32m     24\u001b[0m     NullLocator, LogLocator, AutoLocator, AutoMinorLocator,\n\u001b[1;32m     25\u001b[0m     SymmetricalLogLocator, AsinhLocator, LogitLocator)\n\u001b[1;32m     26\u001b[0m \u001b[38;5;28;01mfrom\u001b[39;00m \u001b[38;5;21;01mmatplotlib\u001b[39;00m\u001b[38;5;21;01m.\u001b[39;00m\u001b[38;5;21;01mtransforms\u001b[39;00m \u001b[38;5;28;01mimport\u001b[39;00m Transform, IdentityTransform\n\u001b[1;32m     29\u001b[0m \u001b[38;5;28;01mclass\u001b[39;00m \u001b[38;5;21;01mScaleBase\u001b[39;00m:\n",
      "File \u001b[0;32m/opt/sw/anaconda3/2023.09/envs/pangeoai23/lib/python3.10/site-packages/matplotlib/ticker.py:143\u001b[0m\n\u001b[1;32m    141\u001b[0m \u001b[38;5;28;01mimport\u001b[39;00m \u001b[38;5;21;01mmatplotlib\u001b[39;00m \u001b[38;5;28;01mas\u001b[39;00m \u001b[38;5;21;01mmpl\u001b[39;00m\n\u001b[1;32m    142\u001b[0m \u001b[38;5;28;01mfrom\u001b[39;00m \u001b[38;5;21;01mmatplotlib\u001b[39;00m \u001b[38;5;28;01mimport\u001b[39;00m _api, cbook\n\u001b[0;32m--> 143\u001b[0m \u001b[38;5;28;01mfrom\u001b[39;00m \u001b[38;5;21;01mmatplotlib\u001b[39;00m \u001b[38;5;28;01mimport\u001b[39;00m transforms \u001b[38;5;28;01mas\u001b[39;00m mtransforms\n\u001b[1;32m    145\u001b[0m _log \u001b[38;5;241m=\u001b[39m logging\u001b[38;5;241m.\u001b[39mgetLogger(\u001b[38;5;18m__name__\u001b[39m)\n\u001b[1;32m    147\u001b[0m __all__ \u001b[38;5;241m=\u001b[39m (\u001b[38;5;124m'\u001b[39m\u001b[38;5;124mTickHelper\u001b[39m\u001b[38;5;124m'\u001b[39m, \u001b[38;5;124m'\u001b[39m\u001b[38;5;124mFormatter\u001b[39m\u001b[38;5;124m'\u001b[39m, \u001b[38;5;124m'\u001b[39m\u001b[38;5;124mFixedFormatter\u001b[39m\u001b[38;5;124m'\u001b[39m,\n\u001b[1;32m    148\u001b[0m            \u001b[38;5;124m'\u001b[39m\u001b[38;5;124mNullFormatter\u001b[39m\u001b[38;5;124m'\u001b[39m, \u001b[38;5;124m'\u001b[39m\u001b[38;5;124mFuncFormatter\u001b[39m\u001b[38;5;124m'\u001b[39m, \u001b[38;5;124m'\u001b[39m\u001b[38;5;124mFormatStrFormatter\u001b[39m\u001b[38;5;124m'\u001b[39m,\n\u001b[1;32m    149\u001b[0m            \u001b[38;5;124m'\u001b[39m\u001b[38;5;124mStrMethodFormatter\u001b[39m\u001b[38;5;124m'\u001b[39m, \u001b[38;5;124m'\u001b[39m\u001b[38;5;124mScalarFormatter\u001b[39m\u001b[38;5;124m'\u001b[39m, \u001b[38;5;124m'\u001b[39m\u001b[38;5;124mLogFormatter\u001b[39m\u001b[38;5;124m'\u001b[39m,\n\u001b[0;32m   (...)\u001b[0m\n\u001b[1;32m    155\u001b[0m            \u001b[38;5;124m'\u001b[39m\u001b[38;5;124mMultipleLocator\u001b[39m\u001b[38;5;124m'\u001b[39m, \u001b[38;5;124m'\u001b[39m\u001b[38;5;124mMaxNLocator\u001b[39m\u001b[38;5;124m'\u001b[39m, \u001b[38;5;124m'\u001b[39m\u001b[38;5;124mAutoMinorLocator\u001b[39m\u001b[38;5;124m'\u001b[39m,\n\u001b[1;32m    156\u001b[0m            \u001b[38;5;124m'\u001b[39m\u001b[38;5;124mSymmetricalLogLocator\u001b[39m\u001b[38;5;124m'\u001b[39m, \u001b[38;5;124m'\u001b[39m\u001b[38;5;124mAsinhLocator\u001b[39m\u001b[38;5;124m'\u001b[39m, \u001b[38;5;124m'\u001b[39m\u001b[38;5;124mLogitLocator\u001b[39m\u001b[38;5;124m'\u001b[39m)\n",
      "File \u001b[0;32m/opt/sw/anaconda3/2023.09/envs/pangeoai23/lib/python3.10/site-packages/matplotlib/transforms.py:49\u001b[0m\n\u001b[1;32m     46\u001b[0m \u001b[38;5;28;01mfrom\u001b[39;00m \u001b[38;5;21;01mnumpy\u001b[39;00m\u001b[38;5;21;01m.\u001b[39;00m\u001b[38;5;21;01mlinalg\u001b[39;00m \u001b[38;5;28;01mimport\u001b[39;00m inv\n\u001b[1;32m     48\u001b[0m \u001b[38;5;28;01mfrom\u001b[39;00m \u001b[38;5;21;01mmatplotlib\u001b[39;00m \u001b[38;5;28;01mimport\u001b[39;00m _api\n\u001b[0;32m---> 49\u001b[0m \u001b[38;5;28;01mfrom\u001b[39;00m \u001b[38;5;21;01mmatplotlib\u001b[39;00m\u001b[38;5;21;01m.\u001b[39;00m\u001b[38;5;21;01m_path\u001b[39;00m \u001b[38;5;28;01mimport\u001b[39;00m (\n\u001b[1;32m     50\u001b[0m     affine_transform, count_bboxes_overlapping_bbox, update_path_extents)\n\u001b[1;32m     51\u001b[0m \u001b[38;5;28;01mfrom\u001b[39;00m \u001b[38;5;21;01m.\u001b[39;00m\u001b[38;5;21;01mpath\u001b[39;00m \u001b[38;5;28;01mimport\u001b[39;00m Path\n\u001b[1;32m     53\u001b[0m DEBUG \u001b[38;5;241m=\u001b[39m \u001b[38;5;28;01mFalse\u001b[39;00m\n",
      "\u001b[0;31mImportError\u001b[0m: numpy.core.multiarray failed to import"
     ]
    }
   ],
   "source": [
    "import numpy as np\n",
    "import matplotlib.pyplot as plt"
   ]
  },
  {
   "cell_type": "code",
   "execution_count": null,
   "id": "7c30ad9d-c3e3-4b1f-94a8-fe93dbf1cb02",
   "metadata": {},
   "outputs": [],
   "source": [
    "#u[0] u[1] u[2] u[3] u[4] u[5] u[6] u[7]\n",
    "#x1   y1    x2   y2  v1x  v1y  v2x  v2y\n",
    "\n",
    "def myfun(t, u):\n",
    "    f = np.zeros((8,))\n",
    "    f[0] = u[4]\n",
    "    f[1] = u[5]\n",
    "    f[2] = u[6]\n",
    "    f[3] = u[7]\n",
    "    R1 = np.sqrt((u[0]**2 + u[1]**2))\n",
    "    R2 = np.sqrt(u[2]**2 + u[3]**2)\n",
    "    dx = u[0] - u[2]\n",
    "    dy = u[1] - u[3]\n",
    "    R12 = np.sqrt(dx**2 + dy**2)\n",
    "    q1 = -G*Ms/(R1**3)\n",
    "    q2 = -G*Ms/(R2**3)\n",
    "    q12 = -G*Mp2/(R12**3)\n",
    "    q21 = -G*Mp1/(R12**3)\n",
    "    f[4] = q1*u[0] + q12*dx\n",
    "    f[5] = q1*u[1] + q12*dy\n",
    "    f[6] = q2*u[2] - q21*dx\n",
    "    f[7] = q2*u[3] - q21*dy\n",
    "    return f"
   ]
  },
  {
   "cell_type": "code",
   "execution_count": null,
   "id": "fdafcd2e-d416-4afa-9b3b-aa4ee809cd0a",
   "metadata": {},
   "outputs": [],
   "source": [
    "G = 6.67e-11 # m3 * kg-1 * s-2\n",
    "Ms = 1.98e30 # mass sun in kg\n",
    "Re = 150e9 #km distance between sun and earth\n",
    "Mp1 = 0.001*Ms # mass planet 1\n",
    "Mp2 = Mp1\n",
    "Rp1 = Re\n",
    "Rp2 = 0.95 * Rp1\n",
    "\n",
    "# keplers law\n",
    "k = 4*(np.pi**2)/ ( G*Ms) #constant of proportionality\n",
    "Pp1 = np.sqrt(k*(Rp1**3))\n",
    "Pp2 = np.sqrt(k*(Rp2**3)) #period of planet 2\n",
    "Vp1 = (2*np.pi*Rp1)/Pp1 #orbital velocity planet 1\n",
    "Vp2 = (2*np.pi*Rp2)/Pp2 #orbital velocity planet 2\n"
   ]
  },
  {
   "cell_type": "code",
   "execution_count": null,
   "id": "319d7ccd-a1ba-4403-9b2e-6e5428b16052",
   "metadata": {},
   "outputs": [],
   "source": [
    "#u[0] u[1] u[2] u[3] u[4] u[5] u[6] u[7]\n",
    "#x1   y1    x2   y2  v1x  v1y  v2x  v2y\n",
    "\n",
    "#new case of planet 1 starting at 5 degrees from horizontal\n",
    "#new case of planet 2 starting at 10 degrees from horizontal\n",
    "\n",
    "u0 = np.zeros((8,))\n",
    "u0[0] = Rp1*np.cos(0.087)\n",
    "u0[1] = Rp1*np.sin(0.087)\n",
    "u0[2] = Rp2*np.cos(0.174)\n",
    "u0[3] = Rp2*np.sin(0.174)\n",
    "u0[4] = 0\n",
    "u0[5] = Vp1\n",
    "u0[6] = 0\n",
    "u0[7] = -Vp2"
   ]
  },
  {
   "cell_type": "code",
   "execution_count": null,
   "id": "93dbc8bc-49a7-4acb-a7c2-d0cc2ab35dda",
   "metadata": {},
   "outputs": [],
   "source": [
    "Dt = 360\n",
    "t0 = 0\n",
    "tmax = 20*Pp1\n",
    "t = np.arange(t0, tmax,Dt)"
   ]
  },
  {
   "cell_type": "code",
   "execution_count": null,
   "id": "fb5decf1-6b65-41bf-8515-d7cb3da11172",
   "metadata": {},
   "outputs": [],
   "source": [
    "from scipy.integrate import solve_ivp\n",
    "sol = solve_ivp(myfun, [t0,tmax], u0, method='DOP853', t_eval=t)"
   ]
  },
  {
   "cell_type": "code",
   "execution_count": null,
   "id": "3ecd01dc-df2f-4a5b-a83f-6ac23ad8fc13",
   "metadata": {},
   "outputs": [],
   "source": [
    "#plot the orgins in the x,y plane\n",
    "\n",
    "fig1 = plt.figure()\n",
    "ax = plt.subplot(1,1,1)\n",
    "plt.axis( [-2e8, 2e8, -2e8, 2e8] )\n",
    "plt.plot(0,0, 'ko', lw=2)\n",
    "plt.plot(sol.y[0]/1000, sol.y[1]/1000, 'g-', lw=1) #planet 1\n",
    "plt.plot(sol.y[2]/1000, sol.y[3]/1000, 'r-', lw=1)\n",
    "plt.xlabel('x (km)')\n",
    "plt.ylabel('y (km)')"
   ]
  },
  {
   "cell_type": "code",
   "execution_count": null,
   "id": "2fb4b30d-693c-45d8-85c9-dda7bf8a45c8",
   "metadata": {},
   "outputs": [],
   "source": [
    "fig1 = plt.figure()\n",
    "ax1 = fig1.add_subplot(projection='3d')\n",
    "ax1.set_xlim((-3e8, 3e8))\n",
    "ax1.set_ylim((-3e8, 3e8))\n",
    "ax1.set_zlim((t0, tmax))\n",
    "ax1.plot(sol.y[0]/1000, sol.y[1]/1000, sol.t, 'g-') #planet 1\n",
    "ax1.plot(sol.y[2]/1000, sol.y[3]/1000, sol.t, 'r-') # planet 2\n",
    "ax1.set_xlabel('x position (km)')\n",
    "ax1.set_ylabel('y position (km)') \n",
    "ax1.set_zlabel('time (s)')"
   ]
  },
  {
   "cell_type": "code",
   "execution_count": null,
   "id": "53252ca4-3ba7-481f-ae12-84dd07d0b0de",
   "metadata": {},
   "outputs": [],
   "source": [
    "# sun-planet distance\n",
    "\n",
    "Rad1 = np.sqrt(sol.y[0]**2 + sol.y[1]**2)\n",
    "Rad2 = np.sqrt(sol.y[2]**2 + sol.y[3]**2)\n",
    "\n",
    "fig1 = plt.figure()\n",
    "ax = plt.subplot(1,1,1)\n",
    "plt.axis( [t0,tmax, 0, 3e8])\n",
    "plt.plot(t,Rad1/1000, 'g-')\n",
    "plt.plot(t,Rad2/1000, 'r-')\n",
    "plt.xlabel('time (s)')\n",
    "plt.ylabel('Orbital Radius, R (km)')\n"
   ]
  },
  {
   "cell_type": "code",
   "execution_count": null,
   "id": "e101f350-7b6f-4537-821b-cf856bdd2a62",
   "metadata": {},
   "outputs": [],
   "source": [
    "# plot the interplanet difference \n",
    "delx = sol.y[0] - sol.y[2]\n",
    "dely = sol.y[1] - sol.y[3]\n",
    "\n",
    "Rad12 = np.sqrt(delx**2 + dely**2)\n",
    "\n",
    "fig1 = plt.figure()\n",
    "ax = plt.subplot(1,1,1)\n",
    "plt.axis( [t0,tmax, 0, 3e8])\n",
    "plt.plot(t,Rad12/1000, 'g-')\n",
    "plt.xlabel('time (s)')\n",
    "plt.ylabel('Planetary distance, R12 (km)')"
   ]
  },
  {
   "cell_type": "code",
   "execution_count": null,
   "id": "6667926a-f701-4e93-9114-c39838971eaf",
   "metadata": {},
   "outputs": [],
   "source": [
    "# plot the velocities \n",
    "\n",
    "velop1 = np.sqrt(sol.y[4]**2 + sol.y[5]**2)\n",
    "velop2 = np.sqrt(sol.y[6]**2 + sol.y[7]**2)\n",
    "\n",
    "fig1 = plt.figure()\n",
    "ax = plt.subplot(1,1,1)\n",
    "#plt.axis( [t0,tmax, 0, 3e8])\n",
    "ax.set_xlim([t0,tmax])\n",
    "plt.plot(t,velop1, 'g-')\n",
    "plt.plot(t,velop2, 'r-')\n",
    "\n",
    "plt.xlabel('time (s)')\n",
    "plt.ylabel('Planetary Velocity (m/s)')"
   ]
  },
  {
   "cell_type": "code",
   "execution_count": null,
   "id": "c1265541-24de-4855-9cd0-1fe35f262d02",
   "metadata": {},
   "outputs": [],
   "source": [
    "from matplotlib import animation\n"
   ]
  },
  {
   "cell_type": "code",
   "execution_count": null,
   "id": "33a88d7d-434a-415c-a1d0-440b45ad7243",
   "metadata": {},
   "outputs": [],
   "source": [
    "N, = np.shape(sol.t)\n",
    "Nframes = 800\n",
    "Nskip = int(N/Nframes)\n",
    "print(N)\n",
    "print(Nframes)\n",
    "print(Nskip)"
   ]
  },
  {
   "cell_type": "code",
   "execution_count": null,
   "id": "9d18dd25-fbb6-414f-b85c-894dd024db8f",
   "metadata": {},
   "outputs": [],
   "source": [
    "fig = plt.figure()\n",
    "ax = fig.subplots()\n",
    "plt.axis( [-2e8, 2e8, -2e8, 2e8] )\n",
    "plt.plot(0,0, 'ko', lw=2)\n",
    "ax.set_xlabel('x position (km)')\n",
    "ax.set_ylabel('y position (km)') \n",
    "\n",
    "line1, = ax.plot([],[], 'go', lw=2)\n",
    "line2, = ax.plot([],[], 'ro', lw=2)\n",
    "\n",
    "def init():\n",
    "    line1.set_data([],[])\n",
    "    line2.set_data([],[])\n",
    "    return (line1,line2)\n",
    "\n",
    "def animate(i):\n",
    "    xp1 = sol.y[0][i*Nskip]/1000\n",
    "    yp1 = sol.y[1][i*Nskip]/1000\n",
    "    xp2 = sol.y[2][i*Nskip]/1000\n",
    "    yp2 = sol.y[3][i*Nskip]/1000\n",
    "    line1.set_data([xp1],[yp1])\n",
    "    line2.set_data([xp2],[yp2])\n",
    "    return (line1,line2)\n",
    "\n",
    "anim = animation.FuncAnimation(fig, animate, init_func=init, frames=Nframes, \n",
    "                               interval=100, blit=True)\n",
    "\n",
    "f = \"planetanimation.gif\"\n",
    "writergif = animation.PillowWriter(fps=30)\n",
    "anim.save(f, writer=writergif)\n",
    "    \n"
   ]
  },
  {
   "cell_type": "code",
   "execution_count": null,
   "id": "7b0bb90b-b34b-4c46-89cc-36c7ca32ed98",
   "metadata": {},
   "outputs": [],
   "source": []
  }
 ],
 "metadata": {
  "kernelspec": {
   "display_name": "pangeoai23",
   "language": "python",
   "name": "pangeoai23"
  },
  "language_info": {
   "codemirror_mode": {
    "name": "ipython",
    "version": 3
   },
   "file_extension": ".py",
   "mimetype": "text/x-python",
   "name": "python",
   "nbconvert_exporter": "python",
   "pygments_lexer": "ipython3",
   "version": "3.10.13"
  }
 },
 "nbformat": 4,
 "nbformat_minor": 5
}
