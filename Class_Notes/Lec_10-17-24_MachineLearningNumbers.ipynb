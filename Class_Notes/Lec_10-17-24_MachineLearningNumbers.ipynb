{
 "cells": [
  {
   "cell_type": "code",
   "execution_count": null,
   "id": "da727baf-a65c-4aad-823d-53d7b3a4ce95",
   "metadata": {},
   "outputs": [],
   "source": [
    "# machine learning with Garima Raheja"
   ]
  },
  {
   "cell_type": "code",
   "execution_count": 2,
   "id": "1b2dde03-56ec-45bf-be65-d82171e72f8d",
   "metadata": {},
   "outputs": [],
   "source": [
    "import matplotlib.pyplot as plt\n",
    "import numpy as np\n",
    "from sklearn import datasets, metrics, svm\n",
    "from sklearn.model_selection import train_test_split\n",
    "from PIL import Image\n",
    "import glob, os, re\n"
   ]
  },
  {
   "cell_type": "code",
   "execution_count": null,
   "id": "abec92c7-3dbd-4bc2-9a2d-b09d3d224b67",
   "metadata": {},
   "outputs": [],
   "source": [
    "# load sample datasets built into python\n",
    "digits = datasets.load_digits()\n",
    "\n",
    "# flatten image from long vector into 2D arraay\n",
    "n_samples = len(digits.images)\n",
    "data = digits.images.reshape((n_samples, -1))\n",
    "\n",
    "# create classifier, gamma = precision / computational resource requirement\n",
    "clf = svm.SVC(gamma=0.001)\n",
    "\n",
    "# Split data into train and test subsets (10% - 90%)\n",
    "X_train, X_test, y_train, y_test = train_test_split(\n",
    "    data, digita.target, test_size=0.1, shuffle=False\n",
    ")\n",
    "\n",
    "#Yo machine, learn that!\n",
    "clf.fit(X_train, y_train)\n",
    "\n",
    "predicted = clf. predict(X_test)"
   ]
  },
  {
   "cell_type": "markdown",
   "id": "a563d5d5-68c5-4828-9dd5-ea9799655d63",
   "metadata": {},
   "source": [
    "### GET THE REST OF THE CODE FROM GARIMA!\n"
   ]
  },
  {
   "cell_type": "code",
   "execution_count": null,
   "id": "e03e3962-2cad-4b0c-8bc6-e2b4d663191b",
   "metadata": {},
   "outputs": [],
   "source": []
  }
 ],
 "metadata": {
  "kernelspec": {
   "display_name": "pangeoai23",
   "language": "python",
   "name": "pangeoai23"
  },
  "language_info": {
   "codemirror_mode": {
    "name": "ipython",
    "version": 3
   },
   "file_extension": ".py",
   "mimetype": "text/x-python",
   "name": "python",
   "nbconvert_exporter": "python",
   "pygments_lexer": "ipython3",
   "version": "3.10.13"
  }
 },
 "nbformat": 4,
 "nbformat_minor": 5
}
