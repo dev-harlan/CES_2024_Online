{
 "cells": [
  {
   "cell_type": "code",
   "execution_count": 3,
   "id": "afd4ddd0-5014-4a1f-ad64-832c3ac77743",
   "metadata": {},
   "outputs": [
    {
     "name": "stdout",
     "output_type": "stream",
     "text": [
      "Average Earth Temp: 254.8116 K, -18.3384 C\n",
      "TOO COLD!\n"
     ]
    }
   ],
   "source": [
    "# Warming Models\n",
    "'''\n",
    "solar constant SWR = 1366 W/m^2 (at equator)\n",
    "surface albedo ~= 30% (global average)\n",
    "infrared radiationm heat loss = sigma * T^4 (Boltzmann law)\n",
    "\n",
    "'''\n",
    "\n",
    "import numpy as np\n",
    "\n",
    "#Radiation balance assuming no Greenhouse effect\n",
    "\n",
    "solar_constant = 1366\n",
    "albedo = 0.3\n",
    "boltzmann_constant = 5.6703744193e-8\n",
    "\n",
    "Te = (solar_constant*(1-albedo) / (4*boltzmann_constant))**(1/4)\n",
    "print('Average Earth Temp: %0.4f K, %0.4f C' % (Te, Te-273.15))\n",
    "print('TOO COLD!')"
   ]
  },
  {
   "cell_type": "code",
   "execution_count": 5,
   "id": "0afaee8b-3447-46a8-b4a9-f2f3e49d0eaa",
   "metadata": {},
   "outputs": [
    {
     "name": "stdout",
     "output_type": "stream",
     "text": [
      "Average Earth Temp: 288.3280 K, 15.1780 C\n"
     ]
    }
   ],
   "source": [
    "# use greenhouse effect:\n",
    "'''\n",
    "E = emmissivity ~= 78% (0% = no greenhouse effect)\n",
    "Ta = tempof atmosphere\n",
    "E * sigma * Ta^4 + (1-E)*sigma * Ta^4 = 0\n",
    "'''\n",
    "\n",
    "epsilon = 0.78\n",
    "\n",
    "Ts = ((solar_constant*(1-albedo)/4) / (boltzmann_constant * (1-epsilon/2))) ** (1/4)\n",
    "print('Average Earth Temp: %0.4f K, %0.4f C' % (Ts, Ts-273.15))"
   ]
  },
  {
   "cell_type": "code",
   "execution_count": 8,
   "id": "3cf336a7-48ef-49c1-87ef-63dd72a040da",
   "metadata": {},
   "outputs": [
    {
     "data": {
      "text/plain": [
       "0.01673290106672244"
      ]
     },
     "execution_count": 8,
     "metadata": {},
     "output_type": "execute_result"
    }
   ],
   "source": [
    "# model added CO2\n",
    "# doubling of C02 = Radiative forcing of 4\n",
    "Ta = (epsilon * boltzmann_constant * Ts**4 / (2 * boltzmann_constant)) ** (1/4)\n",
    "d_epsilon = -4 / (boltzmann_constant * Ta**4 - boltzmann_constant * Ts**4)\n",
    "d_epsilon"
   ]
  },
  {
   "cell_type": "code",
   "execution_count": 10,
   "id": "efc2a348-6c97-4e2c-9041-9ef986b778b1",
   "metadata": {},
   "outputs": [
    {
     "data": {
      "text/plain": [
       "0.7967329010667225"
      ]
     },
     "execution_count": 10,
     "metadata": {},
     "output_type": "execute_result"
    }
   ],
   "source": [
    "new_epsilon = epsilon + d_epsilon\n",
    "new_epsilon"
   ]
  },
  {
   "cell_type": "code",
   "execution_count": 12,
   "id": "6c8d2461-0842-4e4f-9ea4-a59fbfc12ddd",
   "metadata": {},
   "outputs": [
    {
     "name": "stdout",
     "output_type": "stream",
     "text": [
      "0.9972030490922066\n"
     ]
    }
   ],
   "source": [
    "Ts_new = ((solar_constant*(1-albedo)/4) / (boltzmann_constant * (1-new_epsilon/2))) ** (1/4) \n",
    "# blah blah ne formula results in +1 degree warming.. but should be 3! does not account for feedback loops\n",
    "print(Ts_new - Ts)"
   ]
  },
  {
   "cell_type": "code",
   "execution_count": 15,
   "id": "0334ceb1-5661-4b91-88e1-26ef433ba141",
   "metadata": {},
   "outputs": [],
   "source": [
    "from matplotlib import pyplot as plt\n",
    "from scipy.integrate import solve_ivp"
   ]
  },
  {
   "cell_type": "code",
   "execution_count": 20,
   "id": "d3922881-f760-4b48-a379-64273bf59d4f",
   "metadata": {},
   "outputs": [],
   "source": [
    "# Time dependance\n",
    "u = np.zeros((M,))\n",
    "M = 1\n",
    "heat_C = 4.0e8 # Heat Capacity = J/m2/K\n",
    "\n",
    "def myfunc(t, u): # heat balance function w/out GH effect\n",
    "    f = np.zeros((M,))\n",
    "    f[0] = (solar_constant*(1-albedo)/4 - boltzmann_constant*(u[0]**4)) / heat_C\n",
    "    return f\n",
    "\n",
    "u0 = np.zeros((M,))\n",
    "t0 = 0.0\n",
    "dt = 60*60*365*24 # one year in seconds (to keep SI units)\n",
    "tmax = 100*dt\n",
    "t = np.arange(t0, tmax, dt)\n",
    "N = np.shape(t)[0]\n"
   ]
  },
  {
   "cell_type": "code",
   "execution_count": 28,
   "id": "4fd1f926-8a64-4c45-86b2-16a768c160fc",
   "metadata": {},
   "outputs": [
    {
     "data": {
      "text/plain": [
       "[<matplotlib.lines.Line2D at 0x7bd9df7c9b40>]"
      ]
     },
     "execution_count": 28,
     "metadata": {},
     "output_type": "execute_result"
    },
    {
     "data": {
      "image/png": "[encoded data removed]",
      "text/plain": [
       "<Figure size 640x480 with 1 Axes>"
      ]
     },
     "metadata": {},
     "output_type": "display_data"
    }
   ],
   "source": [
    "sol = solve_ivp(myfunc, [t0,tmax], u0, method='RK45', t_eval = t)\n",
    "\n",
    "fig = plt.figure()\n",
    "plt.plot(sol.t/(60*60*365*24), sol.y[0], 'k-')\n",
    "#lt.xlabel('Time (Year)')\n",
    "#plt.ylabel('Temperat#ure (K)')\n",
    "\n"
   ]
  },
  {
   "cell_type": "code",
   "execution_count": null,
   "id": "bbb24a04-d098-4121-a9f7-bb75c798ef5e",
   "metadata": {},
   "outputs": [],
   "source": [
    "# with GHG absorption\n",
    "\n",
    "M = 2\n",
    "\n",
    "def myfunc(t, u): # heat balance function w/ 2 layer model GHG effect\n",
    "    f = np.zeros((M,))\n",
    "    # u[0] = Ta\n",
    "    # u[1] = Ts\n",
    "    \n",
    "    f[0] = (solar_constant*(1-albedo)/4 - epsilon*boltzmann_constant*(u[0]**4) \n",
    "            - (1 - epsilon) * boltzmann_constant*(u[1]**4)) / heat_C\n",
    "    f[1] = (solar_constant*(1-albedo)/4 + epsilon*boltzmann_constant*(u[0]**4)\n",
    "            - boltzmann_constant*(u[1]**4)) / heat_C\n",
    "    return f\n",
    "    \n",
    "\n"
   ]
  }
 ],
 "metadata": {
  "kernelspec": {
   "display_name": "pangeoai23",
   "language": "python",
   "name": "pangeoai23"
  },
  "language_info": {
   "codemirror_mode": {
    "name": "ipython",
    "version": 3
   },
   "file_extension": ".py",
   "mimetype": "text/x-python",
   "name": "python",
   "nbconvert_exporter": "python",
   "pygments_lexer": "ipython3",
   "version": "3.10.13"
  }
 },
 "nbformat": 4,
 "nbformat_minor": 5
}
