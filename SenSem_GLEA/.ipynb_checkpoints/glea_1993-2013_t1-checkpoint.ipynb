{
 "cells": [
  {
   "cell_type": "code",
   "execution_count": 1,
   "id": "1e46b3f8-48b6-4b0c-ace1-570f4d949090",
   "metadata": {},
   "outputs": [],
   "source": [
    "# Mapping data from GLEA, 1993-2013"
   ]
  },
  {
   "cell_type": "code",
   "execution_count": 2,
   "id": "d3a8ccf3-5d97-46ef-854c-e43d45c99f94",
   "metadata": {},
   "outputs": [],
   "source": [
    "#packages\n",
    "import geopandas\n",
    "import numpy as np\n",
    "import pandas as pd\n",
    "import datetime\n",
    "from shapely.geometry import Point\n",
    "import seaborn as sns\n",
    "import matplotlib.pyplot as plt\n",
    "%matplotlib inline"
   ]
  },
  {
   "cell_type": "code",
   "execution_count": null,
   "id": "6bdebfb8-ef72-4574-a95e-100b51ce6159",
   "metadata": {},
   "outputs": [
    {
     "name": "stderr",
     "output_type": "stream",
     "text": [
      "ERROR 1: PROJ: proj_create_from_database: Open of /opt/sw/anaconda3/2023.09/envs/pangeo23/share/proj failed\n"
     ]
    },
    {
     "name": "stdout",
     "output_type": "stream",
     "text": [
      "<class 'shapely.geometry.multipolygon.MultiPolygon'>\n"
     ]
    },
    {
     "data": {
      "text/plain": [
       "<Axes: >"
      ]
     },
     "execution_count": 3,
     "metadata": {},
     "output_type": "execute_result"
    }
   ],
   "source": [
    "#Get GEOJSON\n",
    "country = geopandas.read_file(\"./Greenland_Shape.json\")\n",
    "#print(country.head())\n",
    "print(type(country.geometry[0]))\n",
    "country.plot(color='#DDDDDD', edgecolor='#000000', linewidth = 0.25)\n",
    "# or country.boundary.plot(color='#666666')"
   ]
  },
  {
   "cell_type": "code",
   "execution_count": null,
   "id": "5c44adc1-e961-4c7b-b8e1-496c5aa27755",
   "metadata": {},
   "outputs": [],
   "source": [
    "quakeData = pd.read_csv('./GLEA_1993_2013_merged_headers.txt', sep='\\s+')\n",
    "quakeData.info()"
   ]
  },
  {
   "cell_type": "code",
   "execution_count": null,
   "id": "e416484e-1fbd-435b-b42c-205d161266f6",
   "metadata": {},
   "outputs": [],
   "source": [
    "quakeData['coords'] = quakeData[['long', 'lat']].values.tolist()  # Get coordinate values into a 2d list\n",
    "quakeData['coords'] = quakeData['coords'].apply(Point)            # Convert coordinates into a point data type\n",
    "\n",
    "# single date column accurate to day\n",
    "quakeData['date'] = pd.to_datetime(datetime.datetime(\n",
    "    quakeData['years'],\n",
    "    quakeData['months'],\n",
    "    quakeData['days']\n",
    "))\n",
    "\n",
    "quakeDataGeo = geopandas.GeoDataFrame(quakeData, columns=['year', 'amp', 'MSW', 'coords'], geometry='coords')  # Convert dataset to geodataframe.GeoDataFrame, append 'coords' as geometry\n",
    "quakeDataGeo.head()"
   ]
  },
  {
   "cell_type": "code",
   "execution_count": null,
   "id": "3cd32a2b-7648-41a5-8fd7-8f661789b27e",
   "metadata": {},
   "outputs": [],
   "source": [
    "#fig, ax = plt.subplots(1, figsize=(10,5))\n",
    "\n",
    "ax = country.plot(\n",
    "    figsize=(10,12),\n",
    "    color='#DDDDDD', \n",
    "    edgecolor='#000000', \n",
    "    linewidth = 0.25\n",
    ")\n",
    "\n",
    "quakeDataGeo.plot(\n",
    "    ax = ax,\n",
    "    aspect=3.2,\n",
    "    column = 'year',\n",
    "    marker = 'o',\n",
    "    markersize = 100,\n",
    "    cmap='magma',\n",
    "    alpha=0.5,\n",
    "    label='Year'\n",
    ")\n",
    "#_ = ax.axis('off')\n",
    "plt.legend()\n",
    "ax.set_title(\"Greenland Seismic Events (GLEA Catalog), 1993-2013\", fontsize=12)\n",
    "\n",
    "plt.savefig('./GLEA Catalog 1993-2013.png', bbox_inches='tight')\n",
    "plt.show()\n"
   ]
  },
  {
   "cell_type": "code",
   "execution_count": null,
   "id": "134751a0-a95a-488b-94d6-d3c175868e6a",
   "metadata": {},
   "outputs": [],
   "source": [
    "#fig, ax = plt.subplots(1, figsize=(10,5))\n",
    "\n",
    "fig, ax = plt.subplots(figsize=(10, 12))\n",
    "\n",
    "country.plot(\n",
    "    ax=ax,\n",
    "    color='#DDDDDD', \n",
    "    edgecolor='#000000', \n",
    "    linewidth = 0.25\n",
    ")\n",
    "\n",
    "# Scatter plot\n",
    "#normalize magnitude data \n",
    "#mswScaled = 25+500*(quakeDataGeo['MSW'] - quakeDataGeo['MSW'].min()) / (quakeDataGeo['MSW'].max() - quakeDataGeo['MSW'].min())\n",
    "ampScaled = 25+600*(quakeDataGeo['amp'] - quakeDataGeo['amp'].min()) / (quakeDataGeo['amp'].max() - quakeDataGeo['amp'].min())\n",
    "\n",
    "scatter = ax.scatter(\n",
    "    quakeDataGeo.geometry.x, \n",
    "    quakeDataGeo.geometry.y, \n",
    "    s=ampScaled, \n",
    "    #c=ampScaled, \n",
    "    cmap='viridis', \n",
    "    color='none',\n",
    "    alpha=0.5, \n",
    "    edgecolor=\"k\",\n",
    "    label='Amplitude (1.e14 kg-m)')\n",
    "\n",
    "plt.legend()\n",
    "ax.set_title(\"Greenland Seismic Events (GLEA Catalog), 1993-2013\", fontsize=12)\n",
    "\n",
    "plt.show()\n",
    "#plt.savefig('./GLEA Catalog 1993-2013.png', bbox_inches='tight')\n"
   ]
  },
  {
   "cell_type": "code",
   "execution_count": null,
   "id": "6f239ef7-b465-41bd-a2e0-d5f140612ac3",
   "metadata": {},
   "outputs": [],
   "source": []
  }
 ],
 "metadata": {
  "kernelspec": {
   "display_name": "pangeo23",
   "language": "python",
   "name": "pangeo23"
  },
  "language_info": {
   "codemirror_mode": {
    "name": "ipython",
    "version": 3
   },
   "file_extension": ".py",
   "mimetype": "text/x-python",
   "name": "python",
   "nbconvert_exporter": "python",
   "pygments_lexer": "ipython3",
   "version": "3.11.6"
  }
 },
 "nbformat": 4,
 "nbformat_minor": 5
}
