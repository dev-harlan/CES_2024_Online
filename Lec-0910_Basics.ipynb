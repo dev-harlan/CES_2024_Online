{
 "cells": [
  {
   "cell_type": "code",
   "execution_count": null,
   "id": "ee09a506-f832-42f0-b30d-8c4d29a2e768",
   "metadata": {},
   "outputs": [],
   "source": [
    "# python basics"
   ]
  },
  {
   "cell_type": "code",
   "execution_count": 10,
   "id": "f267c838-3132-4145-abcd-302ce98306d1",
   "metadata": {},
   "outputs": [
    {
     "name": "stdout",
     "output_type": "stream",
     "text": [
      "0.3333333333333333\n",
      "hello\n",
      "0.3333333333333333 : <class 'float'>\n",
      "hello : <class 'str'>\n",
      "pos at e:  1\n"
     ]
    }
   ],
   "source": [
    "a = 1/3\n",
    "print(a)\n",
    "\n",
    "b = \"hello\"\n",
    "print(b)\n",
    "print(a, \":\", type(a))\n",
    "print(b, \":\", type(b))\n",
    "\n",
    "# string methods:\n",
    "i = b.rfind('e')\n",
    "print(\"pos of char e: \", i)"
   ]
  },
  {
   "cell_type": "code",
   "execution_count": 16,
   "id": "a686fe58-b592-4ea6-a1e3-1c2a0a26084e",
   "metadata": {},
   "outputs": [
    {
     "name": "stdout",
     "output_type": "stream",
     "text": [
      "Positive number\n",
      "greater than 100\n"
     ]
    }
   ],
   "source": [
    "#if statements\n",
    "\n",
    "x = 1000\n",
    "if x > 0:\n",
    "    print(\"Positive number\")\n",
    "    if x>= 100:\n",
    "            print(\"greater than 100\")\n",
    "elif x < 0:\n",
    "    print(\"Negative number\")\n",
    "else:\n",
    "    print(\"0\")\n"
   ]
  },
  {
   "cell_type": "code",
   "execution_count": 18,
   "id": "e02178a8-259b-4f9b-8a07-55ad29c0c23d",
   "metadata": {},
   "outputs": [
    {
     "name": "stdout",
     "output_type": "stream",
     "text": [
      "2\n",
      "3\n",
      "4\n",
      "5\n",
      "6\n",
      "7\n",
      "8\n",
      "9\n"
     ]
    }
   ],
   "source": [
    "# for statements\n",
    "\n",
    "for i in range(2, 10):\n",
    "    print(i)"
   ]
  },
  {
   "cell_type": "code",
   "execution_count": 47,
   "id": "59517299-3b22-4565-9c80-cce453c3adc4",
   "metadata": {},
   "outputs": [
    {
     "name": "stdout",
     "output_type": "stream",
     "text": [
      "4 color caticorn\n",
      "['any', 'color']\n",
      "1\n",
      "1\n",
      "3\n",
      "4\n",
      "5\n",
      "9\n",
      "any\n",
      "color\n",
      "you\n",
      "like\n",
      "1.3149\n",
      "2**2\n",
      "8**2\n",
      "caticorn\n",
      "Appalachia\n"
     ]
    }
   ],
   "source": [
    "# lists (array)\n",
    "\n",
    "arrayPi = [3, 1, 4, 1, 5, 9]\n",
    "arrayStr = [\"any\", \"color\", \"you\", \"like\"]\n",
    "arrayMix = [1.3149, \"2**2\", \"8**2\", \"caticorn\"]\n",
    "\n",
    "# get single element:\n",
    "print(arrayPi[2], arrayStr[1], arrayMix[3])\n",
    "\n",
    "# get multiple elements\n",
    "print(arrayStr[0:2])\n",
    "\n",
    "# add to list\n",
    "arrayMix.append(\"Appalachia\")\n",
    "\n",
    "#sort\n",
    "arrayPi.sort()\n",
    "\n",
    "#get all elements:\n",
    "for n in arrayPi:\n",
    "    print(n)\n",
    "for n in arrayStr:\n",
    "    print(n)\n",
    "for n in arrayMix:\n",
    "    print(n)\n"
   ]
  },
  {
   "cell_type": "code",
   "execution_count": 28,
   "id": "44a843fd-4e55-49a9-b96a-8e4cb1c54802",
   "metadata": {},
   "outputs": [
    {
     "name": "stdout",
     "output_type": "stream",
     "text": [
      "('Dev', 100, True) 100 True\n"
     ]
    }
   ],
   "source": [
    "# tuples\n",
    "# not editable once declared, but computes very efficiently\n",
    "# most useful to optimize constants in large programs \n",
    "\n",
    "a = (\"Dev\", 100, True)\n",
    "print(a, a[1], a[2])"
   ]
  },
  {
   "cell_type": "code",
   "execution_count": 40,
   "id": "70bc4eb9-8433-4a28-8e64-02d0a8b03a51",
   "metadata": {},
   "outputs": [
    {
     "name": "stdout",
     "output_type": "stream",
     "text": [
      "Sirius 40200\n",
      "name :  Betelguese\n",
      "age :  50000\n",
      "luma :  10\n"
     ]
    }
   ],
   "source": [
    "# dictionary = key/value pairs\n",
    "\n",
    "f = { 'name':\"Sirius\", 'age':40200}\n",
    "e = { 'name':\"Betelguese\", 'age':50000 }\n",
    "e['luma'] = (10)\n",
    "print(f['name'], f['age'])\n",
    "for i in e:\n",
    "    print(i, \": \", e[i])"
   ]
  },
  {
   "cell_type": "code",
   "execution_count": 41,
   "id": "1ec09f69-9bb8-427a-b12c-74d269982a74",
   "metadata": {},
   "outputs": [
    {
     "data": {
      "text/plain": [
       "'Hello, pleased to meet you!'"
      ]
     },
     "execution_count": 41,
     "metadata": {},
     "output_type": "execute_result"
    }
   ],
   "source": [
    "# functions\n",
    "\n",
    "def saySomething(myString):\n",
    "    \"\"\" Doc string to explain what the function does, similar to a comment \"\"\"\n",
    "    return 'Hello, ' + str(myString)\n",
    "\n",
    "saySomething(\"pleased to meet you!\")\n",
    "    "
   ]
  },
  {
   "cell_type": "code",
   "execution_count": 46,
   "id": "97383f0d-742b-4de0-9942-fa4ff607bd8f",
   "metadata": {},
   "outputs": [
    {
     "data": {
      "text/plain": [
       "\u001b[0;31mSignature:\u001b[0m \u001b[0msayArgs\u001b[0m\u001b[0;34m(\u001b[0m\u001b[0mmyString\u001b[0m\u001b[0;34m,\u001b[0m \u001b[0mfrench\u001b[0m\u001b[0;34m=\u001b[0m\u001b[0;32mFalse\u001b[0m\u001b[0;34m)\u001b[0m\u001b[0;34m\u001b[0m\u001b[0;34m\u001b[0m\u001b[0m\n",
       "\u001b[0;31mDocstring:\u001b[0m Say my string, optional hello in french \n",
       "\u001b[0;31mFile:\u001b[0m      /tmp/ipykernel_27909/2724073733.py\n",
       "\u001b[0;31mType:\u001b[0m      function"
      ]
     },
     "metadata": {},
     "output_type": "display_data"
    }
   ],
   "source": [
    "def sayArgs(myString, french=False):\n",
    "    \"\"\" Say my string, optional hello in french \"\"\"\n",
    "\n",
    "    if french:\n",
    "        greeting = \"bonjour, \"\n",
    "    else:\n",
    "        greeting = \"hello, \"\n",
    "\n",
    "    return greeting + str(myString)\n",
    "\n",
    "# call function\n",
    "sayArgs(\"is this the way to carnegie hall?\", french=True)\n",
    "\n",
    "# call w/ help\n",
    "sayArgs?"
   ]
  },
  {
   "cell_type": "code",
   "execution_count": 51,
   "id": "4286b1fa-5a03-47b8-935b-b25161e62e77",
   "metadata": {},
   "outputs": [
    {
     "name": "stdout",
     "output_type": "stream",
     "text": [
      "1\n",
      "2\n",
      "4\n",
      "8\n",
      "16\n",
      "32\n",
      "64\n",
      "128\n"
     ]
    }
   ],
   "source": [
    "# Fibonacci Series\n",
    "\n",
    "def fib(n):\n",
    "    \"\"\" Print the Fibonacci series up to n \"\"\"\n",
    "    a, b = 0, 1;\n",
    "\n",
    "    while a < n:\n",
    "        a = b\n",
    "        b = a+b\n",
    "        print(a)\n",
    "\n",
    "fib(100)\n",
    "\n"
   ]
  },
  {
   "cell_type": "code",
   "execution_count": 54,
   "id": "aa8a88e6-5f5c-4594-8642-7d53db396af8",
   "metadata": {},
   "outputs": [
    {
     "data": {
      "text/plain": [
       "[0,\n",
       " 1,\n",
       " 1,\n",
       " 2,\n",
       " 3,\n",
       " 5,\n",
       " 8,\n",
       " 13,\n",
       " 21,\n",
       " 34,\n",
       " 55,\n",
       " 89,\n",
       " 144,\n",
       " 233,\n",
       " 377,\n",
       " 610,\n",
       " 987,\n",
       " 1597,\n",
       " 2584,\n",
       " 4181,\n",
       " 6765,\n",
       " 10946,\n",
       " 17711,\n",
       " 28657,\n",
       " 46368,\n",
       " 75025,\n",
       " 121393,\n",
       " 196418,\n",
       " 317811,\n",
       " 514229,\n",
       " 832040,\n",
       " 1346269,\n",
       " 2178309,\n",
       " 3524578,\n",
       " 5702887,\n",
       " 9227465,\n",
       " 14930352,\n",
       " 24157817,\n",
       " 39088169,\n",
       " 63245986,\n",
       " 102334155,\n",
       " 165580141,\n",
       " 267914296,\n",
       " 433494437,\n",
       " 701408733,\n",
       " 1134903170,\n",
       " 1836311903,\n",
       " 2971215073,\n",
       " 4807526976,\n",
       " 7778742049,\n",
       " 12586269025,\n",
       " 20365011074,\n",
       " 32951280099,\n",
       " 53316291173,\n",
       " 86267571272,\n",
       " 139583862445,\n",
       " 225851433717,\n",
       " 365435296162,\n",
       " 591286729879,\n",
       " 956722026041,\n",
       " 1548008755920,\n",
       " 2504730781961,\n",
       " 4052739537881,\n",
       " 6557470319842,\n",
       " 10610209857723,\n",
       " 17167680177565,\n",
       " 27777890035288,\n",
       " 44945570212853,\n",
       " 72723460248141,\n",
       " 117669030460994,\n",
       " 190392490709135,\n",
       " 308061521170129,\n",
       " 498454011879264,\n",
       " 806515533049393,\n",
       " 1304969544928657,\n",
       " 2111485077978050,\n",
       " 3416454622906707,\n",
       " 5527939700884757,\n",
       " 8944394323791464,\n",
       " 14472334024676221,\n",
       " 23416728348467685,\n",
       " 37889062373143906,\n",
       " 61305790721611591,\n",
       " 99194853094755497,\n",
       " 160500643816367088,\n",
       " 259695496911122585,\n",
       " 420196140727489673,\n",
       " 679891637638612258,\n",
       " 1100087778366101931,\n",
       " 1779979416004714189,\n",
       " 2880067194370816120,\n",
       " 4660046610375530309,\n",
       " 7540113804746346429,\n",
       " 12200160415121876738,\n",
       " 19740274219868223167,\n",
       " 31940434634990099905,\n",
       " 51680708854858323072,\n",
       " 83621143489848422977,\n",
       " 135301852344706746049,\n",
       " 218922995834555169026]"
      ]
     },
     "execution_count": 54,
     "metadata": {},
     "output_type": "execute_result"
    }
   ],
   "source": [
    "def fib2(n):\n",
    "    \"\"\"print fibonacci series \"\"\"\n",
    "    l = [0, 1]\n",
    "    for i in range(n-2):\n",
    "        l.append(l[-1] + l[-2])\n",
    "    return l\n",
    "\n",
    "fib2(100)\n",
    "    "
   ]
  },
  {
   "cell_type": "code",
   "execution_count": null,
   "id": "b53233e5-762b-42ac-a6f0-5c1e8b510980",
   "metadata": {},
   "outputs": [],
   "source": []
  }
 ],
 "metadata": {
  "kernelspec": {
   "display_name": "pangeo23",
   "language": "python",
   "name": "pangeo23"
  },
  "language_info": {
   "codemirror_mode": {
    "name": "ipython",
    "version": 3
   },
   "file_extension": ".py",
   "mimetype": "text/x-python",
   "name": "python",
   "nbconvert_exporter": "python",
   "pygments_lexer": "ipython3",
   "version": "3.11.6"
  }
 },
 "nbformat": 4,
 "nbformat_minor": 5
}
